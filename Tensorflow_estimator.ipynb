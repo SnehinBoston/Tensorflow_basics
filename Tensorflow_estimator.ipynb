{
 "cells": [
  {
   "cell_type": "code",
   "execution_count": 1,
   "metadata": {},
   "outputs": [],
   "source": [
    "import tensorflow as tf\n",
    "\n",
    "import pandas as pd"
   ]
  },
  {
   "cell_type": "code",
   "execution_count": 2,
   "metadata": {},
   "outputs": [],
   "source": [
    "CSV_COLUMN_NAMES = ['SepalLength', 'SepalWidth', 'PetalLength', 'PetalWidth', 'Species']\n",
    "SPECIES = ['Setosa', 'Versicolor', 'Virginica']"
   ]
  },
  {
   "cell_type": "code",
   "execution_count": 3,
   "metadata": {},
   "outputs": [
    {
     "name": "stdout",
     "output_type": "stream",
     "text": [
      "Downloading data from https://storage.googleapis.com/download.tensorflow.org/data/iris_training.csv\n",
      "8192/2194 [================================================================================================================] - 0s 0us/step\n",
      "Downloading data from https://storage.googleapis.com/download.tensorflow.org/data/iris_test.csv\n",
      "8192/573 [============================================================================================================================================================================================================================================================================================================================================================================================================================================] - 0s 0us/step\n"
     ]
    }
   ],
   "source": [
    "train_path = tf.keras.utils.get_file(\n",
    "    \"iris_training.csv\", \"https://storage.googleapis.com/download.tensorflow.org/data/iris_training.csv\")\n",
    "test_path = tf.keras.utils.get_file(\n",
    "    \"iris_test.csv\", \"https://storage.googleapis.com/download.tensorflow.org/data/iris_test.csv\")\n",
    "\n",
    "train = pd.read_csv(train_path, names=CSV_COLUMN_NAMES, header=0)\n",
    "test = pd.read_csv(test_path, names=CSV_COLUMN_NAMES, header=0)"
   ]
  },
  {
   "cell_type": "code",
   "execution_count": 4,
   "metadata": {},
   "outputs": [
    {
     "data": {
      "text/html": [
       "<div>\n",
       "<style scoped>\n",
       "    .dataframe tbody tr th:only-of-type {\n",
       "        vertical-align: middle;\n",
       "    }\n",
       "\n",
       "    .dataframe tbody tr th {\n",
       "        vertical-align: top;\n",
       "    }\n",
       "\n",
       "    .dataframe thead th {\n",
       "        text-align: right;\n",
       "    }\n",
       "</style>\n",
       "<table border=\"1\" class=\"dataframe\">\n",
       "  <thead>\n",
       "    <tr style=\"text-align: right;\">\n",
       "      <th></th>\n",
       "      <th>SepalLength</th>\n",
       "      <th>SepalWidth</th>\n",
       "      <th>PetalLength</th>\n",
       "      <th>PetalWidth</th>\n",
       "    </tr>\n",
       "  </thead>\n",
       "  <tbody>\n",
       "    <tr>\n",
       "      <th>0</th>\n",
       "      <td>6.4</td>\n",
       "      <td>2.8</td>\n",
       "      <td>5.6</td>\n",
       "      <td>2.2</td>\n",
       "    </tr>\n",
       "    <tr>\n",
       "      <th>1</th>\n",
       "      <td>5.0</td>\n",
       "      <td>2.3</td>\n",
       "      <td>3.3</td>\n",
       "      <td>1.0</td>\n",
       "    </tr>\n",
       "    <tr>\n",
       "      <th>2</th>\n",
       "      <td>4.9</td>\n",
       "      <td>2.5</td>\n",
       "      <td>4.5</td>\n",
       "      <td>1.7</td>\n",
       "    </tr>\n",
       "    <tr>\n",
       "      <th>3</th>\n",
       "      <td>4.9</td>\n",
       "      <td>3.1</td>\n",
       "      <td>1.5</td>\n",
       "      <td>0.1</td>\n",
       "    </tr>\n",
       "    <tr>\n",
       "      <th>4</th>\n",
       "      <td>5.7</td>\n",
       "      <td>3.8</td>\n",
       "      <td>1.7</td>\n",
       "      <td>0.3</td>\n",
       "    </tr>\n",
       "  </tbody>\n",
       "</table>\n",
       "</div>"
      ],
      "text/plain": [
       "   SepalLength  SepalWidth  PetalLength  PetalWidth\n",
       "0          6.4         2.8          5.6         2.2\n",
       "1          5.0         2.3          3.3         1.0\n",
       "2          4.9         2.5          4.5         1.7\n",
       "3          4.9         3.1          1.5         0.1\n",
       "4          5.7         3.8          1.7         0.3"
      ]
     },
     "execution_count": 4,
     "metadata": {},
     "output_type": "execute_result"
    }
   ],
   "source": [
    "train_y = train.pop('Species')\n",
    "test_y = test.pop('Species')\n",
    "\n",
    "# The label column has now been removed from the features.\n",
    "train.head()"
   ]
  },
  {
   "cell_type": "code",
   "execution_count": 5,
   "metadata": {},
   "outputs": [],
   "source": [
    "def input_evaluation_set():\n",
    "    features = {'SepalLength': np.array([6.4, 5.0]),\n",
    "                'SepalWidth':  np.array([2.8, 2.3]),\n",
    "                'PetalLength': np.array([5.6, 3.3]),\n",
    "                'PetalWidth':  np.array([2.2, 1.0])}\n",
    "    labels = np.array([2,1])\n",
    "    return features, labels"
   ]
  },
  {
   "cell_type": "code",
   "execution_count": 11,
   "metadata": {},
   "outputs": [],
   "source": [
    "def input_fn(features, labels, training = True, batch_size = 256):\n",
    "    dataset = tf.data.Dataset.from_tensor_slices((dict(features), labels))\n",
    "    \n",
    "    if training:\n",
    "        dataset = dataset.shuffle(1000).repeat()\n",
    "        \n",
    "    return dataset.batch(batch_size)"
   ]
  },
  {
   "cell_type": "code",
   "execution_count": 12,
   "metadata": {},
   "outputs": [],
   "source": [
    "# Feature columns describe how to use the input.\n",
    "my_feature_columns = []\n",
    "for key in train.keys():\n",
    "    my_feature_columns.append(tf.feature_column.numeric_column(key=key))"
   ]
  },
  {
   "cell_type": "code",
   "execution_count": 13,
   "metadata": {},
   "outputs": [
    {
     "name": "stdout",
     "output_type": "stream",
     "text": [
      "INFO:tensorflow:Using default config.\n",
      "WARNING:tensorflow:Using temporary folder as model directory: /var/folders/nj/f9l6vhs50h975cdq0gphfn500000gn/T/tmpzy_kv0ph\n",
      "INFO:tensorflow:Using config: {'_model_dir': '/var/folders/nj/f9l6vhs50h975cdq0gphfn500000gn/T/tmpzy_kv0ph', '_tf_random_seed': None, '_save_summary_steps': 100, '_save_checkpoints_steps': None, '_save_checkpoints_secs': 600, '_session_config': allow_soft_placement: true\n",
      "graph_options {\n",
      "  rewrite_options {\n",
      "    meta_optimizer_iterations: ONE\n",
      "  }\n",
      "}\n",
      ", '_keep_checkpoint_max': 5, '_keep_checkpoint_every_n_hours': 10000, '_log_step_count_steps': 100, '_train_distribute': None, '_device_fn': None, '_protocol': None, '_eval_distribute': None, '_experimental_distribute': None, '_experimental_max_worker_delay_secs': None, '_session_creation_timeout_secs': 7200, '_service': None, '_cluster_spec': ClusterSpec({}), '_task_type': 'worker', '_task_id': 0, '_global_id_in_cluster': 0, '_master': '', '_evaluation_master': '', '_is_chief': True, '_num_ps_replicas': 0, '_num_worker_replicas': 1}\n"
     ]
    }
   ],
   "source": [
    "# Build a DNN with 2 hidden layers with 30 and 10 hidden nodes each.\n",
    "classifier = tf.estimator.DNNClassifier(\n",
    "            feature_columns = my_feature_columns,\n",
    "            hidden_units = [30,10],\n",
    "            n_classes = 3)"
   ]
  },
  {
   "cell_type": "code",
   "execution_count": 14,
   "metadata": {},
   "outputs": [
    {
     "name": "stdout",
     "output_type": "stream",
     "text": [
      "INFO:tensorflow:Calling model_fn.\n",
      "WARNING:tensorflow:Layer dnn is casting an input tensor from dtype float64 to the layer's dtype of float32, which is new behavior in TensorFlow 2.  The layer has dtype float32 because its dtype defaults to floatx.\n",
      "\n",
      "If you intended to run this layer in float32, you can safely ignore this warning. If in doubt, this warning is likely only an issue if you are porting a TensorFlow 1.X model to TensorFlow 2.\n",
      "\n",
      "To change all layers to have dtype float64 by default, call `tf.keras.backend.set_floatx('float64')`. To change just this layer, pass dtype='float64' to the layer constructor. If you are the author of this layer, you can disable autocasting by passing autocast=False to the base Layer constructor.\n",
      "\n",
      "WARNING:tensorflow:From /Users/snehgurdasani/anaconda3/lib/python3.7/site-packages/tensorflow/python/keras/optimizer_v2/adagrad.py:83: calling Constant.__init__ (from tensorflow.python.ops.init_ops) with dtype is deprecated and will be removed in a future version.\n",
      "Instructions for updating:\n",
      "Call initializer instance with the dtype argument instead of passing it to the constructor\n",
      "INFO:tensorflow:Done calling model_fn.\n",
      "INFO:tensorflow:Create CheckpointSaverHook.\n",
      "INFO:tensorflow:Graph was finalized.\n",
      "INFO:tensorflow:Running local_init_op.\n",
      "INFO:tensorflow:Done running local_init_op.\n",
      "INFO:tensorflow:Calling checkpoint listeners before saving checkpoint 0...\n",
      "INFO:tensorflow:Saving checkpoints for 0 into /var/folders/nj/f9l6vhs50h975cdq0gphfn500000gn/T/tmpzy_kv0ph/model.ckpt.\n",
      "INFO:tensorflow:Calling checkpoint listeners after saving checkpoint 0...\n",
      "INFO:tensorflow:loss = 1.1961756, step = 0\n",
      "INFO:tensorflow:global_step/sec: 526.252\n",
      "INFO:tensorflow:loss = 0.93012214, step = 100 (0.192 sec)\n",
      "INFO:tensorflow:global_step/sec: 735.52\n",
      "INFO:tensorflow:loss = 0.8773571, step = 200 (0.135 sec)\n",
      "INFO:tensorflow:global_step/sec: 701.977\n",
      "INFO:tensorflow:loss = 0.82847625, step = 300 (0.142 sec)\n",
      "INFO:tensorflow:global_step/sec: 768.817\n",
      "INFO:tensorflow:loss = 0.793409, step = 400 (0.130 sec)\n",
      "INFO:tensorflow:global_step/sec: 735.591\n",
      "INFO:tensorflow:loss = 0.7537757, step = 500 (0.136 sec)\n",
      "INFO:tensorflow:global_step/sec: 737.029\n",
      "INFO:tensorflow:loss = 0.7317891, step = 600 (0.136 sec)\n",
      "INFO:tensorflow:global_step/sec: 762.619\n",
      "INFO:tensorflow:loss = 0.7032014, step = 700 (0.131 sec)\n",
      "INFO:tensorflow:global_step/sec: 723.972\n",
      "INFO:tensorflow:loss = 0.6768613, step = 800 (0.138 sec)\n",
      "INFO:tensorflow:global_step/sec: 710.551\n",
      "INFO:tensorflow:loss = 0.6554653, step = 900 (0.141 sec)\n",
      "INFO:tensorflow:global_step/sec: 787.661\n",
      "INFO:tensorflow:loss = 0.64339256, step = 1000 (0.127 sec)\n",
      "INFO:tensorflow:global_step/sec: 737.577\n",
      "INFO:tensorflow:loss = 0.6186707, step = 1100 (0.136 sec)\n",
      "INFO:tensorflow:global_step/sec: 754.83\n",
      "INFO:tensorflow:loss = 0.6120175, step = 1200 (0.132 sec)\n",
      "INFO:tensorflow:global_step/sec: 723.097\n",
      "INFO:tensorflow:loss = 0.589242, step = 1300 (0.138 sec)\n",
      "INFO:tensorflow:global_step/sec: 746.978\n",
      "INFO:tensorflow:loss = 0.5803076, step = 1400 (0.134 sec)\n",
      "INFO:tensorflow:global_step/sec: 768.279\n",
      "INFO:tensorflow:loss = 0.56947625, step = 1500 (0.130 sec)\n",
      "INFO:tensorflow:global_step/sec: 731.342\n",
      "INFO:tensorflow:loss = 0.5617147, step = 1600 (0.137 sec)\n",
      "INFO:tensorflow:global_step/sec: 709.023\n",
      "INFO:tensorflow:loss = 0.53744465, step = 1700 (0.141 sec)\n",
      "INFO:tensorflow:global_step/sec: 760.08\n",
      "INFO:tensorflow:loss = 0.5296132, step = 1800 (0.132 sec)\n",
      "INFO:tensorflow:global_step/sec: 744.752\n",
      "INFO:tensorflow:loss = 0.51551723, step = 1900 (0.134 sec)\n",
      "INFO:tensorflow:global_step/sec: 758.956\n",
      "INFO:tensorflow:loss = 0.50977385, step = 2000 (0.132 sec)\n",
      "INFO:tensorflow:global_step/sec: 770.427\n",
      "INFO:tensorflow:loss = 0.49773675, step = 2100 (0.130 sec)\n",
      "INFO:tensorflow:global_step/sec: 698.208\n",
      "INFO:tensorflow:loss = 0.49586177, step = 2200 (0.143 sec)\n",
      "INFO:tensorflow:global_step/sec: 771.914\n",
      "INFO:tensorflow:loss = 0.47876275, step = 2300 (0.130 sec)\n",
      "INFO:tensorflow:global_step/sec: 746.569\n",
      "INFO:tensorflow:loss = 0.4745342, step = 2400 (0.134 sec)\n",
      "INFO:tensorflow:global_step/sec: 744.569\n",
      "INFO:tensorflow:loss = 0.4553331, step = 2500 (0.134 sec)\n",
      "INFO:tensorflow:global_step/sec: 741.835\n",
      "INFO:tensorflow:loss = 0.445548, step = 2600 (0.135 sec)\n",
      "INFO:tensorflow:global_step/sec: 757.524\n",
      "INFO:tensorflow:loss = 0.43462133, step = 2700 (0.132 sec)\n",
      "INFO:tensorflow:global_step/sec: 703.333\n",
      "INFO:tensorflow:loss = 0.42631084, step = 2800 (0.142 sec)\n",
      "INFO:tensorflow:global_step/sec: 762.986\n",
      "INFO:tensorflow:loss = 0.42039356, step = 2900 (0.131 sec)\n",
      "INFO:tensorflow:global_step/sec: 760.989\n",
      "INFO:tensorflow:loss = 0.41122174, step = 3000 (0.131 sec)\n",
      "INFO:tensorflow:global_step/sec: 727.977\n",
      "INFO:tensorflow:loss = 0.40216687, step = 3100 (0.137 sec)\n",
      "INFO:tensorflow:global_step/sec: 745.685\n",
      "INFO:tensorflow:loss = 0.41977206, step = 3200 (0.134 sec)\n",
      "INFO:tensorflow:global_step/sec: 703.368\n",
      "INFO:tensorflow:loss = 0.39536825, step = 3300 (0.142 sec)\n",
      "INFO:tensorflow:global_step/sec: 749.873\n",
      "INFO:tensorflow:loss = 0.38853025, step = 3400 (0.133 sec)\n",
      "INFO:tensorflow:global_step/sec: 736.99\n",
      "INFO:tensorflow:loss = 0.38413998, step = 3500 (0.136 sec)\n",
      "INFO:tensorflow:global_step/sec: 764.603\n",
      "INFO:tensorflow:loss = 0.36900565, step = 3600 (0.131 sec)\n",
      "INFO:tensorflow:global_step/sec: 732.091\n",
      "INFO:tensorflow:loss = 0.3624866, step = 3700 (0.137 sec)\n",
      "INFO:tensorflow:global_step/sec: 749.816\n",
      "INFO:tensorflow:loss = 0.35639888, step = 3800 (0.133 sec)\n",
      "INFO:tensorflow:global_step/sec: 717.618\n",
      "INFO:tensorflow:loss = 0.3627733, step = 3900 (0.139 sec)\n",
      "INFO:tensorflow:global_step/sec: 765.427\n",
      "INFO:tensorflow:loss = 0.35420495, step = 4000 (0.131 sec)\n",
      "INFO:tensorflow:global_step/sec: 698.867\n",
      "INFO:tensorflow:loss = 0.34787926, step = 4100 (0.143 sec)\n",
      "INFO:tensorflow:global_step/sec: 755.617\n",
      "INFO:tensorflow:loss = 0.3430438, step = 4200 (0.132 sec)\n",
      "INFO:tensorflow:global_step/sec: 669.24\n",
      "INFO:tensorflow:loss = 0.33802843, step = 4300 (0.149 sec)\n",
      "INFO:tensorflow:global_step/sec: 660.489\n",
      "INFO:tensorflow:loss = 0.33947805, step = 4400 (0.151 sec)\n",
      "INFO:tensorflow:global_step/sec: 758.011\n",
      "INFO:tensorflow:loss = 0.3276207, step = 4500 (0.132 sec)\n",
      "INFO:tensorflow:global_step/sec: 756.854\n",
      "INFO:tensorflow:loss = 0.31943148, step = 4600 (0.132 sec)\n",
      "INFO:tensorflow:global_step/sec: 762.579\n",
      "INFO:tensorflow:loss = 0.33130622, step = 4700 (0.131 sec)\n",
      "INFO:tensorflow:global_step/sec: 764.473\n",
      "INFO:tensorflow:loss = 0.31991395, step = 4800 (0.131 sec)\n",
      "INFO:tensorflow:global_step/sec: 768.102\n",
      "INFO:tensorflow:loss = 0.31634775, step = 4900 (0.130 sec)\n",
      "INFO:tensorflow:Calling checkpoint listeners before saving checkpoint 5000...\n",
      "INFO:tensorflow:Saving checkpoints for 5000 into /var/folders/nj/f9l6vhs50h975cdq0gphfn500000gn/T/tmpzy_kv0ph/model.ckpt.\n",
      "INFO:tensorflow:Calling checkpoint listeners after saving checkpoint 5000...\n",
      "INFO:tensorflow:Loss for final step: 0.310818.\n"
     ]
    },
    {
     "data": {
      "text/plain": [
       "<tensorflow_estimator.python.estimator.canned.dnn.DNNClassifierV2 at 0x7fcd6162fa58>"
      ]
     },
     "execution_count": 14,
     "metadata": {},
     "output_type": "execute_result"
    }
   ],
   "source": [
    "classifier.train(input_fn = lambda: input_fn(train, train_y, training = True),steps=5000)"
   ]
  },
  {
   "cell_type": "code",
   "execution_count": 15,
   "metadata": {},
   "outputs": [
    {
     "name": "stdout",
     "output_type": "stream",
     "text": [
      "INFO:tensorflow:Calling model_fn.\n",
      "WARNING:tensorflow:Layer dnn is casting an input tensor from dtype float64 to the layer's dtype of float32, which is new behavior in TensorFlow 2.  The layer has dtype float32 because its dtype defaults to floatx.\n",
      "\n",
      "If you intended to run this layer in float32, you can safely ignore this warning. If in doubt, this warning is likely only an issue if you are porting a TensorFlow 1.X model to TensorFlow 2.\n",
      "\n",
      "To change all layers to have dtype float64 by default, call `tf.keras.backend.set_floatx('float64')`. To change just this layer, pass dtype='float64' to the layer constructor. If you are the author of this layer, you can disable autocasting by passing autocast=False to the base Layer constructor.\n",
      "\n",
      "INFO:tensorflow:Done calling model_fn.\n",
      "INFO:tensorflow:Starting evaluation at 2020-12-05T11:31:05Z\n",
      "INFO:tensorflow:Graph was finalized.\n",
      "INFO:tensorflow:Restoring parameters from /var/folders/nj/f9l6vhs50h975cdq0gphfn500000gn/T/tmpzy_kv0ph/model.ckpt-5000\n",
      "INFO:tensorflow:Running local_init_op.\n",
      "INFO:tensorflow:Done running local_init_op.\n",
      "INFO:tensorflow:Inference Time : 0.26060s\n",
      "INFO:tensorflow:Finished evaluation at 2020-12-05-11:31:06\n",
      "INFO:tensorflow:Saving dict for global step 5000: accuracy = 0.93333334, average_loss = 0.3550361, global_step = 5000, loss = 0.3550361\n",
      "INFO:tensorflow:Saving 'checkpoint_path' summary for global step 5000: /var/folders/nj/f9l6vhs50h975cdq0gphfn500000gn/T/tmpzy_kv0ph/model.ckpt-5000\n",
      "\n",
      "Test set accuracy:  0.933\n",
      "\n"
     ]
    }
   ],
   "source": [
    "eval_result = classifier.evaluate(input_fn = lambda: input_fn(test, test_y, training = False))\n",
    "print('\\nTest set accuracy: {accuracy: 0.3f}\\n'.format(**eval_result))"
   ]
  },
  {
   "cell_type": "code",
   "execution_count": 16,
   "metadata": {},
   "outputs": [],
   "source": [
    "# Generate predictions from the model\n",
    "expected = ['Setosa', 'Versicolor', 'Virginica']\n",
    "predict_x = {\n",
    "    'SepalLength': [5.1, 5.9, 6.9],\n",
    "    'SepalWidth': [3.3, 3.0, 3.1],\n",
    "    'PetalLength': [1.7, 4.2, 5.4],\n",
    "    'PetalWidth': [0.5, 1.5, 2.1],\n",
    "}\n",
    "\n",
    "def input_fn(features, batch_size=256):\n",
    "    return tf.data.Dataset.from_tensor_slices(dict(features)).batch(batch_size)\n",
    "\n",
    "predictions  = classifier.predict(input_fn = lambda: input_fn(predict_x))"
   ]
  },
  {
   "cell_type": "code",
   "execution_count": 17,
   "metadata": {},
   "outputs": [
    {
     "name": "stdout",
     "output_type": "stream",
     "text": [
      "INFO:tensorflow:Calling model_fn.\n",
      "INFO:tensorflow:Done calling model_fn.\n",
      "INFO:tensorflow:Graph was finalized.\n",
      "INFO:tensorflow:Restoring parameters from /var/folders/nj/f9l6vhs50h975cdq0gphfn500000gn/T/tmpzy_kv0ph/model.ckpt-5000\n",
      "INFO:tensorflow:Running local_init_op.\n",
      "INFO:tensorflow:Done running local_init_op.\n",
      "Prediction is \"Setosa\"(78.8%),expected \"Setosa\"\n",
      "Prediction is \"Versicolor\"(59.1%),expected \"Versicolor\"\n",
      "Prediction is \"Virginica\"(68.6%),expected \"Virginica\"\n"
     ]
    }
   ],
   "source": [
    "for pred_dict, expec in zip(predictions, expected):\n",
    "    class_id = pred_dict['class_ids'][0]\n",
    "    probability = pred_dict['probabilities'][class_id]\n",
    "    \n",
    "    print('Prediction is \"{}\"({:.1f}%),expected \"{}\"'.format(\n",
    "        SPECIES[class_id], 100 * probability, expec))"
   ]
  }
 ],
 "metadata": {
  "kernelspec": {
   "display_name": "Python 3",
   "language": "python",
   "name": "python3"
  },
  "language_info": {
   "codemirror_mode": {
    "name": "ipython",
    "version": 3
   },
   "file_extension": ".py",
   "mimetype": "text/x-python",
   "name": "python",
   "nbconvert_exporter": "python",
   "pygments_lexer": "ipython3",
   "version": "3.7.3"
  }
 },
 "nbformat": 4,
 "nbformat_minor": 2
}
